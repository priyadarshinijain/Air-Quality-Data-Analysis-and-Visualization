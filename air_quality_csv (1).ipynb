{
 "cells": [
  {
   "cell_type": "markdown",
   "id": "3a28e937-bd60-45ec-9ebe-d5ba9a47acec",
   "metadata": {},
   "source": [
    "<div style=\"border-radius: 10px; border: 2px solid #8B4513; padding: 15px; background-color: #FAF3E3; font-size: 16px; text-align: center; box-shadow: 2px 2px 10px rgba(0, 0, 0, 0.1);\">\n",
    "      <h2 style=\"font-family: 'Arial', sans-serif; color: #8B4513; text-transform: uppercase; letter-spacing: 1px;\">Air Quality Data Analysis</h2>\n",
    "\n"
   ]
  },
  {
   "cell_type": "markdown",
   "id": "d2109415-3e66-4825-a206-5bac9eae1caf",
   "metadata": {},
   "source": [
    "<div style=\"color:white;\n",
    "           display:fill;\n",
    "           border-radius:5px;\n",
    "           background-color:pink;\n",
    "           font-size:200%;\n",
    "           font-family:Serif;\n",
    "           letter-spacing:0.5px\">\n",
    "\n",
    "<p style=\"padding: 10px;\n",
    "          color:black;\n",
    "          font-size:120%;\n",
    "          text-align:center;\">\n",
    "Step 1: Importing the Required Libraries\n",
    "</p>\n",
    "</div>"
   ]
  },
  {
   "cell_type": "code",
   "execution_count": 2,
   "id": "6af04315-de92-421f-ae64-faaedf56113c",
   "metadata": {},
   "outputs": [],
   "source": [
    "import pandas as pd\n",
    "import numpy as np "
   ]
  },
  {
   "cell_type": "markdown",
   "id": "2ad75ffe-2305-4bab-bc9d-b6ebf7af496d",
   "metadata": {},
   "source": [
    "<div style=\"color:white;\n",
    "           display:fill;\n",
    "           border-radius:5px;\n",
    "           background-color:pink;\n",
    "           font-size:200%;\n",
    "           font-family:Serif;\n",
    "           letter-spacing:0.5px\">\n",
    "\n",
    "<p style=\"padding: 10px;\n",
    "          color:black;\n",
    "          font-size:120%;\n",
    "          text-align:center;\">\n",
    "Step 2: Loading the Data set\n",
    "</p>\n",
    "</div>"
   ]
  },
  {
   "cell_type": "code",
   "execution_count": 3,
   "id": "3424e287-59d6-4feb-9e99-90021c6731a4",
   "metadata": {},
   "outputs": [],
   "source": [
    "air_quality= pd.read_csv(\"air_quality.csv\")"
   ]
  },
  {
   "cell_type": "markdown",
   "id": "fcf1ac45-49c9-49d4-88d5-59c6e2303509",
   "metadata": {},
   "source": [
    "<div style=\"color:white;\n",
    "           display:fill;\n",
    "           border-radius:5px;\n",
    "           background-color:pink;\n",
    "           font-size:200%;\n",
    "           font-family:Serif;\n",
    "           letter-spacing:0.5px\">\n",
    "\n",
    "<p style=\"padding: 10px;\n",
    "          color:black;\n",
    "          font-size:120%;\n",
    "          text-align:center;\">\n",
    "Step 3: Basic Understanding of Data\n",
    "</p>\n",
    "</div>"
   ]
  },
  {
   "cell_type": "code",
   "execution_count": 4,
   "id": "f9921223-f09a-4b33-9547-6f791e8eef17",
   "metadata": {},
   "outputs": [
    {
     "data": {
      "text/html": [
       "<div>\n",
       "<style scoped>\n",
       "    .dataframe tbody tr th:only-of-type {\n",
       "        vertical-align: middle;\n",
       "    }\n",
       "\n",
       "    .dataframe tbody tr th {\n",
       "        vertical-align: top;\n",
       "    }\n",
       "\n",
       "    .dataframe thead th {\n",
       "        text-align: right;\n",
       "    }\n",
       "</style>\n",
       "<table border=\"1\" class=\"dataframe\">\n",
       "  <thead>\n",
       "    <tr style=\"text-align: right;\">\n",
       "      <th></th>\n",
       "      <th>date_time</th>\n",
       "      <th>PM2.5</th>\n",
       "      <th>PM10</th>\n",
       "      <th>SO2</th>\n",
       "      <th>NO2</th>\n",
       "      <th>CO</th>\n",
       "      <th>O3</th>\n",
       "      <th>TEMP</th>\n",
       "      <th>PRES</th>\n",
       "      <th>DEWP</th>\n",
       "      <th>RAIN</th>\n",
       "      <th>wd</th>\n",
       "      <th>WSPM</th>\n",
       "      <th>station</th>\n",
       "    </tr>\n",
       "  </thead>\n",
       "  <tbody>\n",
       "    <tr>\n",
       "      <th>0</th>\n",
       "      <td>2013-03-01 00:00:00</td>\n",
       "      <td>9.0</td>\n",
       "      <td>9.0</td>\n",
       "      <td>3.0</td>\n",
       "      <td>17.0</td>\n",
       "      <td>300.0</td>\n",
       "      <td>89.0</td>\n",
       "      <td>-0.5</td>\n",
       "      <td>1024.5</td>\n",
       "      <td>-21.4</td>\n",
       "      <td>0.0</td>\n",
       "      <td>NNW</td>\n",
       "      <td>5.7</td>\n",
       "      <td>Dongsi</td>\n",
       "    </tr>\n",
       "    <tr>\n",
       "      <th>1</th>\n",
       "      <td>2013-03-01 01:00:00</td>\n",
       "      <td>4.0</td>\n",
       "      <td>4.0</td>\n",
       "      <td>3.0</td>\n",
       "      <td>16.0</td>\n",
       "      <td>300.0</td>\n",
       "      <td>88.0</td>\n",
       "      <td>-0.7</td>\n",
       "      <td>1025.1</td>\n",
       "      <td>-22.1</td>\n",
       "      <td>0.0</td>\n",
       "      <td>NW</td>\n",
       "      <td>3.9</td>\n",
       "      <td>Dongsi</td>\n",
       "    </tr>\n",
       "    <tr>\n",
       "      <th>2</th>\n",
       "      <td>2013-03-01 05:00:00</td>\n",
       "      <td>4.0</td>\n",
       "      <td>4.0</td>\n",
       "      <td>9.0</td>\n",
       "      <td>25.0</td>\n",
       "      <td>300.0</td>\n",
       "      <td>78.0</td>\n",
       "      <td>-2.4</td>\n",
       "      <td>1027.5</td>\n",
       "      <td>-21.3</td>\n",
       "      <td>0.0</td>\n",
       "      <td>NW</td>\n",
       "      <td>2.4</td>\n",
       "      <td>Dongsi</td>\n",
       "    </tr>\n",
       "    <tr>\n",
       "      <th>3</th>\n",
       "      <td>2013-03-01 06:00:00</td>\n",
       "      <td>5.0</td>\n",
       "      <td>5.0</td>\n",
       "      <td>10.0</td>\n",
       "      <td>29.0</td>\n",
       "      <td>400.0</td>\n",
       "      <td>67.0</td>\n",
       "      <td>-2.5</td>\n",
       "      <td>1028.2</td>\n",
       "      <td>-20.4</td>\n",
       "      <td>0.0</td>\n",
       "      <td>NW</td>\n",
       "      <td>2.2</td>\n",
       "      <td>Dongsi</td>\n",
       "    </tr>\n",
       "    <tr>\n",
       "      <th>4</th>\n",
       "      <td>2013-03-01 07:00:00</td>\n",
       "      <td>3.0</td>\n",
       "      <td>6.0</td>\n",
       "      <td>12.0</td>\n",
       "      <td>40.0</td>\n",
       "      <td>400.0</td>\n",
       "      <td>52.0</td>\n",
       "      <td>-1.4</td>\n",
       "      <td>1029.5</td>\n",
       "      <td>-20.4</td>\n",
       "      <td>0.0</td>\n",
       "      <td>NNW</td>\n",
       "      <td>3.0</td>\n",
       "      <td>Dongsi</td>\n",
       "    </tr>\n",
       "  </tbody>\n",
       "</table>\n",
       "</div>"
      ],
      "text/plain": [
       "             date_time  PM2.5  PM10   SO2   NO2     CO    O3  TEMP    PRES  \\\n",
       "0  2013-03-01 00:00:00    9.0   9.0   3.0  17.0  300.0  89.0  -0.5  1024.5   \n",
       "1  2013-03-01 01:00:00    4.0   4.0   3.0  16.0  300.0  88.0  -0.7  1025.1   \n",
       "2  2013-03-01 05:00:00    4.0   4.0   9.0  25.0  300.0  78.0  -2.4  1027.5   \n",
       "3  2013-03-01 06:00:00    5.0   5.0  10.0  29.0  400.0  67.0  -2.5  1028.2   \n",
       "4  2013-03-01 07:00:00    3.0   6.0  12.0  40.0  400.0  52.0  -1.4  1029.5   \n",
       "\n",
       "   DEWP  RAIN   wd  WSPM station  \n",
       "0 -21.4   0.0  NNW   5.7  Dongsi  \n",
       "1 -22.1   0.0   NW   3.9  Dongsi  \n",
       "2 -21.3   0.0   NW   2.4  Dongsi  \n",
       "3 -20.4   0.0   NW   2.2  Dongsi  \n",
       "4 -20.4   0.0  NNW   3.0  Dongsi  "
      ]
     },
     "execution_count": 4,
     "metadata": {},
     "output_type": "execute_result"
    }
   ],
   "source": [
    "air_quality.head()"
   ]
  },
  {
   "cell_type": "code",
   "execution_count": 5,
   "id": "365bc4ea-4161-4752-8010-386706314a98",
   "metadata": {},
   "outputs": [
    {
     "name": "stdout",
     "output_type": "stream",
     "text": [
      "<class 'pandas.core.frame.DataFrame'>\n",
      "RangeIndex: 95685 entries, 0 to 95684\n",
      "Data columns (total 14 columns):\n",
      " #   Column     Non-Null Count  Dtype  \n",
      "---  ------     --------------  -----  \n",
      " 0   date_time  95685 non-null  object \n",
      " 1   PM2.5      95685 non-null  float64\n",
      " 2   PM10       95685 non-null  float64\n",
      " 3   SO2        95685 non-null  float64\n",
      " 4   NO2        95685 non-null  float64\n",
      " 5   CO         95685 non-null  float64\n",
      " 6   O3         95685 non-null  float64\n",
      " 7   TEMP       95685 non-null  float64\n",
      " 8   PRES       95685 non-null  float64\n",
      " 9   DEWP       95685 non-null  float64\n",
      " 10  RAIN       95685 non-null  float64\n",
      " 11  wd         95685 non-null  object \n",
      " 12  WSPM       95685 non-null  float64\n",
      " 13  station    95685 non-null  object \n",
      "dtypes: float64(11), object(3)\n",
      "memory usage: 10.2+ MB\n"
     ]
    }
   ],
   "source": [
    "air_quality.info()"
   ]
  },
  {
   "cell_type": "code",
   "execution_count": 8,
   "id": "712fd915-4a29-4c62-9364-e795002fdb2d",
   "metadata": {},
   "outputs": [],
   "source": [
    "air_quality['date_time']=pd.to_datetime(air_quality['date_time'])\n"
   ]
  },
  {
   "cell_type": "code",
   "execution_count": 9,
   "id": "1463c220-692b-44ea-ab1a-da5073d1ad92",
   "metadata": {},
   "outputs": [
    {
     "data": {
      "text/plain": [
       "date_time    datetime64[ns]\n",
       "PM2.5               float64\n",
       "PM10                float64\n",
       "SO2                 float64\n",
       "NO2                 float64\n",
       "CO                  float64\n",
       "O3                  float64\n",
       "TEMP                float64\n",
       "PRES                float64\n",
       "DEWP                float64\n",
       "RAIN                float64\n",
       "wd                   object\n",
       "WSPM                float64\n",
       "station              object\n",
       "dtype: object"
      ]
     },
     "execution_count": 9,
     "metadata": {},
     "output_type": "execute_result"
    }
   ],
   "source": [
    "air_quality.dtypes"
   ]
  },
  {
   "cell_type": "markdown",
   "id": "7d281bde-57ee-4b6b-b32c-363844512c80",
   "metadata": {},
   "source": [
    "<div style=\"color:white;\n",
    "           display:fill;\n",
    "           border-radius:5px;\n",
    "           background-color:pink;\n",
    "           font-size:200%;\n",
    "           font-family:Serif;\n",
    "           letter-spacing:0.5px\">\n",
    "\n",
    "<p style=\"padding: 10px;\n",
    "          color:black;\n",
    "          font-size:120%;\n",
    "          text-align:center;\">\n",
    "Step 4: Preprocessing \n",
    "</p>\n",
    "</div>"
   ]
  },
  {
   "cell_type": "markdown",
   "id": "56b7d72b-5932-4888-87f2-bbb2d6bbb40c",
   "metadata": {},
   "source": [
    "#  feature engineering column extraction "
   ]
  },
  {
   "cell_type": "code",
   "execution_count": 10,
   "id": "8bda4e7c-5418-41a7-8959-3f8c3c749eca",
   "metadata": {},
   "outputs": [
    {
     "data": {
      "text/html": [
       "<div>\n",
       "<style scoped>\n",
       "    .dataframe tbody tr th:only-of-type {\n",
       "        vertical-align: middle;\n",
       "    }\n",
       "\n",
       "    .dataframe tbody tr th {\n",
       "        vertical-align: top;\n",
       "    }\n",
       "\n",
       "    .dataframe thead th {\n",
       "        text-align: right;\n",
       "    }\n",
       "</style>\n",
       "<table border=\"1\" class=\"dataframe\">\n",
       "  <thead>\n",
       "    <tr style=\"text-align: right;\">\n",
       "      <th></th>\n",
       "      <th>date_time</th>\n",
       "      <th>year</th>\n",
       "      <th>month</th>\n",
       "      <th>day</th>\n",
       "      <th>hour</th>\n",
       "      <th>quarter</th>\n",
       "      <th>day_of_week_num</th>\n",
       "      <th>day_of_week_name</th>\n",
       "    </tr>\n",
       "  </thead>\n",
       "  <tbody>\n",
       "    <tr>\n",
       "      <th>0</th>\n",
       "      <td>2013-03-01 00:00:00</td>\n",
       "      <td>2013</td>\n",
       "      <td>3</td>\n",
       "      <td>1</td>\n",
       "      <td>0</td>\n",
       "      <td>1</td>\n",
       "      <td>4</td>\n",
       "      <td>Friday</td>\n",
       "    </tr>\n",
       "    <tr>\n",
       "      <th>1</th>\n",
       "      <td>2013-03-01 01:00:00</td>\n",
       "      <td>2013</td>\n",
       "      <td>3</td>\n",
       "      <td>1</td>\n",
       "      <td>1</td>\n",
       "      <td>1</td>\n",
       "      <td>4</td>\n",
       "      <td>Friday</td>\n",
       "    </tr>\n",
       "    <tr>\n",
       "      <th>2</th>\n",
       "      <td>2013-03-01 05:00:00</td>\n",
       "      <td>2013</td>\n",
       "      <td>3</td>\n",
       "      <td>1</td>\n",
       "      <td>5</td>\n",
       "      <td>1</td>\n",
       "      <td>4</td>\n",
       "      <td>Friday</td>\n",
       "    </tr>\n",
       "    <tr>\n",
       "      <th>3</th>\n",
       "      <td>2013-03-01 06:00:00</td>\n",
       "      <td>2013</td>\n",
       "      <td>3</td>\n",
       "      <td>1</td>\n",
       "      <td>6</td>\n",
       "      <td>1</td>\n",
       "      <td>4</td>\n",
       "      <td>Friday</td>\n",
       "    </tr>\n",
       "    <tr>\n",
       "      <th>4</th>\n",
       "      <td>2013-03-01 07:00:00</td>\n",
       "      <td>2013</td>\n",
       "      <td>3</td>\n",
       "      <td>1</td>\n",
       "      <td>7</td>\n",
       "      <td>1</td>\n",
       "      <td>4</td>\n",
       "      <td>Friday</td>\n",
       "    </tr>\n",
       "    <tr>\n",
       "      <th>...</th>\n",
       "      <td>...</td>\n",
       "      <td>...</td>\n",
       "      <td>...</td>\n",
       "      <td>...</td>\n",
       "      <td>...</td>\n",
       "      <td>...</td>\n",
       "      <td>...</td>\n",
       "      <td>...</td>\n",
       "    </tr>\n",
       "    <tr>\n",
       "      <th>95680</th>\n",
       "      <td>2017-02-28 15:00:00</td>\n",
       "      <td>2017</td>\n",
       "      <td>2</td>\n",
       "      <td>28</td>\n",
       "      <td>15</td>\n",
       "      <td>1</td>\n",
       "      <td>1</td>\n",
       "      <td>Tuesday</td>\n",
       "    </tr>\n",
       "    <tr>\n",
       "      <th>95681</th>\n",
       "      <td>2017-02-28 16:00:00</td>\n",
       "      <td>2017</td>\n",
       "      <td>2</td>\n",
       "      <td>28</td>\n",
       "      <td>16</td>\n",
       "      <td>1</td>\n",
       "      <td>1</td>\n",
       "      <td>Tuesday</td>\n",
       "    </tr>\n",
       "    <tr>\n",
       "      <th>95682</th>\n",
       "      <td>2017-02-28 21:00:00</td>\n",
       "      <td>2017</td>\n",
       "      <td>2</td>\n",
       "      <td>28</td>\n",
       "      <td>21</td>\n",
       "      <td>1</td>\n",
       "      <td>1</td>\n",
       "      <td>Tuesday</td>\n",
       "    </tr>\n",
       "    <tr>\n",
       "      <th>95683</th>\n",
       "      <td>2017-02-28 22:00:00</td>\n",
       "      <td>2017</td>\n",
       "      <td>2</td>\n",
       "      <td>28</td>\n",
       "      <td>22</td>\n",
       "      <td>1</td>\n",
       "      <td>1</td>\n",
       "      <td>Tuesday</td>\n",
       "    </tr>\n",
       "    <tr>\n",
       "      <th>95684</th>\n",
       "      <td>2017-02-28 23:00:00</td>\n",
       "      <td>2017</td>\n",
       "      <td>2</td>\n",
       "      <td>28</td>\n",
       "      <td>23</td>\n",
       "      <td>1</td>\n",
       "      <td>1</td>\n",
       "      <td>Tuesday</td>\n",
       "    </tr>\n",
       "  </tbody>\n",
       "</table>\n",
       "<p>95685 rows × 8 columns</p>\n",
       "</div>"
      ],
      "text/plain": [
       "                date_time  year  month  day  hour  quarter  day_of_week_num  \\\n",
       "0     2013-03-01 00:00:00  2013      3    1     0        1                4   \n",
       "1     2013-03-01 01:00:00  2013      3    1     1        1                4   \n",
       "2     2013-03-01 05:00:00  2013      3    1     5        1                4   \n",
       "3     2013-03-01 06:00:00  2013      3    1     6        1                4   \n",
       "4     2013-03-01 07:00:00  2013      3    1     7        1                4   \n",
       "...                   ...   ...    ...  ...   ...      ...              ...   \n",
       "95680 2017-02-28 15:00:00  2017      2   28    15        1                1   \n",
       "95681 2017-02-28 16:00:00  2017      2   28    16        1                1   \n",
       "95682 2017-02-28 21:00:00  2017      2   28    21        1                1   \n",
       "95683 2017-02-28 22:00:00  2017      2   28    22        1                1   \n",
       "95684 2017-02-28 23:00:00  2017      2   28    23        1                1   \n",
       "\n",
       "      day_of_week_name  \n",
       "0               Friday  \n",
       "1               Friday  \n",
       "2               Friday  \n",
       "3               Friday  \n",
       "4               Friday  \n",
       "...                ...  \n",
       "95680          Tuesday  \n",
       "95681          Tuesday  \n",
       "95682          Tuesday  \n",
       "95683          Tuesday  \n",
       "95684          Tuesday  \n",
       "\n",
       "[95685 rows x 8 columns]"
      ]
     },
     "execution_count": 10,
     "metadata": {},
     "output_type": "execute_result"
    }
   ],
   "source": [
    "air_quality['year']=air_quality['date_time'].dt.year\n",
    "air_quality['month']=air_quality['date_time'].dt.month\n",
    "air_quality['day']=air_quality['date_time'].dt.day\n",
    "air_quality['hour']=air_quality['date_time'].dt.hour\n",
    "air_quality['quarter']=air_quality['date_time'].dt.quarter\n",
    "air_quality['day_of_week_num']=air_quality['date_time'].dt.dayofweek\n",
    "air_quality['day_of_week_name']=air_quality['date_time'].dt.day_name()\n",
    "\n",
    "\n",
    "air_quality[['date_time','year','month','day','hour','quarter','day_of_week_num','day_of_week_name']]"
   ]
  },
  {
   "cell_type": "code",
   "execution_count": 11,
   "id": "c9f4b82b-d984-44ea-b492-7f5168edee20",
   "metadata": {},
   "outputs": [
    {
     "data": {
      "text/plain": [
       "day_of_week_num  day_of_week_name\n",
       "6                Sunday              13931\n",
       "5                Saturday            13812\n",
       "4                Friday              13782\n",
       "3                Thursday            13633\n",
       "0                Monday              13536\n",
       "1                Tuesday             13523\n",
       "2                Wednesday           13468\n",
       "Name: count, dtype: int64"
      ]
     },
     "execution_count": 11,
     "metadata": {},
     "output_type": "execute_result"
    }
   ],
   "source": [
    "air_quality[['day_of_week_num','day_of_week_name']].value_counts()"
   ]
  },
  {
   "cell_type": "code",
   "execution_count": 16,
   "id": "0735610b-4c4e-43b9-9b68-4e168fb8d1ad",
   "metadata": {},
   "outputs": [
    {
     "data": {
      "text/plain": [
       "Timestamp('2017-02-28 23:00:00')"
      ]
     },
     "execution_count": 16,
     "metadata": {},
     "output_type": "execute_result"
    }
   ],
   "source": [
    "air_quality['date_time'].max()"
   ]
  },
  {
   "cell_type": "code",
   "execution_count": 17,
   "id": "fd2f5510-b378-42a3-b26d-2a713495d5d4",
   "metadata": {},
   "outputs": [
    {
     "data": {
      "text/plain": [
       "Timestamp('2013-03-01 00:00:00')"
      ]
     },
     "execution_count": 17,
     "metadata": {},
     "output_type": "execute_result"
    }
   ],
   "source": [
    "air_quality['date_time'].min()"
   ]
  },
  {
   "cell_type": "code",
   "execution_count": 18,
   "id": "cb948bab-b862-48a9-9dca-a88d38ae5d24",
   "metadata": {},
   "outputs": [
    {
     "data": {
      "text/plain": [
       "Timedelta('1460 days 23:00:00')"
      ]
     },
     "execution_count": 18,
     "metadata": {},
     "output_type": "execute_result"
    }
   ],
   "source": [
    "air_quality['date_time'].max()-air_quality['date_time'].min()"
   ]
  },
  {
   "cell_type": "code",
   "execution_count": 19,
   "id": "f18e5ddc-727a-4528-bf3f-72f41baf212a",
   "metadata": {},
   "outputs": [],
   "source": [
    "date_time_range= air_quality['date_time'].max()-air_quality['date_time'].min()"
   ]
  },
  {
   "cell_type": "code",
   "execution_count": 20,
   "id": "527adf2d-23b9-4855-9ce0-18b8cb452b34",
   "metadata": {},
   "outputs": [
    {
     "data": {
      "text/plain": [
       "Timedelta('1 days 00:00:00')"
      ]
     },
     "execution_count": 20,
     "metadata": {},
     "output_type": "execute_result"
    }
   ],
   "source": [
    "pd.Timedelta(days=1)"
   ]
  },
  {
   "cell_type": "code",
   "execution_count": 21,
   "id": "a00f3145-2081-4aae-89d6-2ee2566ba38d",
   "metadata": {},
   "outputs": [
    {
     "data": {
      "text/plain": [
       "Timedelta('365 days 00:00:00')"
      ]
     },
     "execution_count": 21,
     "metadata": {},
     "output_type": "execute_result"
    }
   ],
   "source": [
    "pd.Timedelta(days=365)"
   ]
  },
  {
   "cell_type": "code",
   "execution_count": 22,
   "id": "0af4817c-8677-41f4-b799-bfd4581da258",
   "metadata": {},
   "outputs": [
    {
     "data": {
      "text/plain": [
       "1460.9583333333333"
      ]
     },
     "execution_count": 22,
     "metadata": {},
     "output_type": "execute_result"
    }
   ],
   "source": [
    "date_time_range/pd.Timedelta(days=1)"
   ]
  },
  {
   "cell_type": "code",
   "execution_count": 23,
   "id": "aa7b93a8-c23a-455e-be93-7dcafeaedfbd",
   "metadata": {},
   "outputs": [
    {
     "data": {
      "text/plain": [
       "1460.9583333333333"
      ]
     },
     "execution_count": 23,
     "metadata": {},
     "output_type": "execute_result"
    }
   ],
   "source": [
    "date_time_range/pd.Timedelta(days=1)"
   ]
  },
  {
   "cell_type": "code",
   "execution_count": 24,
   "id": "0037092f-8e05-4930-b469-831b573cc601",
   "metadata": {},
   "outputs": [
    {
     "data": {
      "text/plain": [
       "4.002625570776256"
      ]
     },
     "execution_count": 24,
     "metadata": {},
     "output_type": "execute_result"
    }
   ],
   "source": [
    "date_time_range/pd.Timedelta(days=365)"
   ]
  },
  {
   "cell_type": "code",
   "execution_count": 25,
   "id": "a9aa0f59-08c9-4ced-bf5e-873398b7ab67",
   "metadata": {},
   "outputs": [
    {
     "data": {
      "text/plain": [
       "4.002625570776256"
      ]
     },
     "execution_count": 25,
     "metadata": {},
     "output_type": "execute_result"
    }
   ],
   "source": [
    "1460.9583333333333/365"
   ]
  },
  {
   "cell_type": "code",
   "execution_count": 26,
   "id": "6018a09c-a12a-453a-9008-e1c281ad3bf9",
   "metadata": {},
   "outputs": [
    {
     "data": {
      "text/plain": [
       "Timestamp('2022-01-01 00:00:00')"
      ]
     },
     "execution_count": 26,
     "metadata": {},
     "output_type": "execute_result"
    }
   ],
   "source": [
    "pd.Timestamp('2022/01/01')"
   ]
  },
  {
   "cell_type": "code",
   "execution_count": 27,
   "id": "33b2427f-55b9-40fc-b149-2f9d060d5154",
   "metadata": {},
   "outputs": [
    {
     "data": {
      "text/plain": [
       "0       3228 days 00:00:00\n",
       "1       3227 days 23:00:00\n",
       "2       3227 days 19:00:00\n",
       "3       3227 days 18:00:00\n",
       "4       3227 days 17:00:00\n",
       "               ...        \n",
       "95680   1767 days 09:00:00\n",
       "95681   1767 days 08:00:00\n",
       "95682   1767 days 03:00:00\n",
       "95683   1767 days 02:00:00\n",
       "95684   1767 days 01:00:00\n",
       "Name: date_time, Length: 95685, dtype: timedelta64[ns]"
      ]
     },
     "execution_count": 27,
     "metadata": {},
     "output_type": "execute_result"
    }
   ],
   "source": [
    "pd.Timestamp('2022/01/01')-air_quality['date_time']"
   ]
  },
  {
   "cell_type": "code",
   "execution_count": 28,
   "id": "54f9ca5b-620f-43a2-af3c-4059e7d71b24",
   "metadata": {},
   "outputs": [
    {
     "data": {
      "text/plain": [
       "Timedelta('3228 days 00:00:00')"
      ]
     },
     "execution_count": 28,
     "metadata": {},
     "output_type": "execute_result"
    }
   ],
   "source": [
    "pd.Timestamp('2022/01/01')-air_quality['date_time'][0]"
   ]
  },
  {
   "cell_type": "code",
   "execution_count": 29,
   "id": "f4f4d5e7-78df-4239-91c8-471f36c68be6",
   "metadata": {},
   "outputs": [],
   "source": [
    "air_quality['time_until_2022']=pd.Timestamp('2022/01/01')-air_quality['date_time']"
   ]
  },
  {
   "cell_type": "code",
   "execution_count": 30,
   "id": "3f072ebd-7a46-44a6-a283-0d47ff3cfb73",
   "metadata": {},
   "outputs": [
    {
     "data": {
      "text/html": [
       "<div>\n",
       "<style scoped>\n",
       "    .dataframe tbody tr th:only-of-type {\n",
       "        vertical-align: middle;\n",
       "    }\n",
       "\n",
       "    .dataframe tbody tr th {\n",
       "        vertical-align: top;\n",
       "    }\n",
       "\n",
       "    .dataframe thead th {\n",
       "        text-align: right;\n",
       "    }\n",
       "</style>\n",
       "<table border=\"1\" class=\"dataframe\">\n",
       "  <thead>\n",
       "    <tr style=\"text-align: right;\">\n",
       "      <th></th>\n",
       "      <th>date_time</th>\n",
       "      <th>PM2.5</th>\n",
       "      <th>PM10</th>\n",
       "      <th>SO2</th>\n",
       "      <th>NO2</th>\n",
       "      <th>CO</th>\n",
       "      <th>O3</th>\n",
       "      <th>TEMP</th>\n",
       "      <th>PRES</th>\n",
       "      <th>DEWP</th>\n",
       "      <th>...</th>\n",
       "      <th>WSPM</th>\n",
       "      <th>station</th>\n",
       "      <th>year</th>\n",
       "      <th>month</th>\n",
       "      <th>day</th>\n",
       "      <th>hour</th>\n",
       "      <th>quarter</th>\n",
       "      <th>day_of_week_num</th>\n",
       "      <th>day_of_week_name</th>\n",
       "      <th>time_until_2022</th>\n",
       "    </tr>\n",
       "  </thead>\n",
       "  <tbody>\n",
       "    <tr>\n",
       "      <th>95680</th>\n",
       "      <td>2017-02-28 15:00:00</td>\n",
       "      <td>9.0</td>\n",
       "      <td>9.0</td>\n",
       "      <td>2.0</td>\n",
       "      <td>22.0</td>\n",
       "      <td>300.0</td>\n",
       "      <td>91.0</td>\n",
       "      <td>15.4</td>\n",
       "      <td>1013.0</td>\n",
       "      <td>-15.0</td>\n",
       "      <td>...</td>\n",
       "      <td>3.3</td>\n",
       "      <td>Tiantan</td>\n",
       "      <td>2017</td>\n",
       "      <td>2</td>\n",
       "      <td>28</td>\n",
       "      <td>15</td>\n",
       "      <td>1</td>\n",
       "      <td>1</td>\n",
       "      <td>Tuesday</td>\n",
       "      <td>1767 days 09:00:00</td>\n",
       "    </tr>\n",
       "    <tr>\n",
       "      <th>95681</th>\n",
       "      <td>2017-02-28 16:00:00</td>\n",
       "      <td>10.0</td>\n",
       "      <td>29.0</td>\n",
       "      <td>3.0</td>\n",
       "      <td>21.0</td>\n",
       "      <td>300.0</td>\n",
       "      <td>94.0</td>\n",
       "      <td>14.9</td>\n",
       "      <td>1012.6</td>\n",
       "      <td>-15.4</td>\n",
       "      <td>...</td>\n",
       "      <td>2.1</td>\n",
       "      <td>Tiantan</td>\n",
       "      <td>2017</td>\n",
       "      <td>2</td>\n",
       "      <td>28</td>\n",
       "      <td>16</td>\n",
       "      <td>1</td>\n",
       "      <td>1</td>\n",
       "      <td>Tuesday</td>\n",
       "      <td>1767 days 08:00:00</td>\n",
       "    </tr>\n",
       "    <tr>\n",
       "      <th>95682</th>\n",
       "      <td>2017-02-28 21:00:00</td>\n",
       "      <td>18.0</td>\n",
       "      <td>32.0</td>\n",
       "      <td>4.0</td>\n",
       "      <td>48.0</td>\n",
       "      <td>500.0</td>\n",
       "      <td>48.0</td>\n",
       "      <td>10.8</td>\n",
       "      <td>1014.2</td>\n",
       "      <td>-13.3</td>\n",
       "      <td>...</td>\n",
       "      <td>1.1</td>\n",
       "      <td>Tiantan</td>\n",
       "      <td>2017</td>\n",
       "      <td>2</td>\n",
       "      <td>28</td>\n",
       "      <td>21</td>\n",
       "      <td>1</td>\n",
       "      <td>1</td>\n",
       "      <td>Tuesday</td>\n",
       "      <td>1767 days 03:00:00</td>\n",
       "    </tr>\n",
       "    <tr>\n",
       "      <th>95683</th>\n",
       "      <td>2017-02-28 22:00:00</td>\n",
       "      <td>15.0</td>\n",
       "      <td>42.0</td>\n",
       "      <td>5.0</td>\n",
       "      <td>52.0</td>\n",
       "      <td>600.0</td>\n",
       "      <td>44.0</td>\n",
       "      <td>10.5</td>\n",
       "      <td>1014.4</td>\n",
       "      <td>-12.9</td>\n",
       "      <td>...</td>\n",
       "      <td>1.2</td>\n",
       "      <td>Tiantan</td>\n",
       "      <td>2017</td>\n",
       "      <td>2</td>\n",
       "      <td>28</td>\n",
       "      <td>22</td>\n",
       "      <td>1</td>\n",
       "      <td>1</td>\n",
       "      <td>Tuesday</td>\n",
       "      <td>1767 days 02:00:00</td>\n",
       "    </tr>\n",
       "    <tr>\n",
       "      <th>95684</th>\n",
       "      <td>2017-02-28 23:00:00</td>\n",
       "      <td>15.0</td>\n",
       "      <td>50.0</td>\n",
       "      <td>5.0</td>\n",
       "      <td>68.0</td>\n",
       "      <td>700.0</td>\n",
       "      <td>21.0</td>\n",
       "      <td>8.6</td>\n",
       "      <td>1014.1</td>\n",
       "      <td>-15.9</td>\n",
       "      <td>...</td>\n",
       "      <td>1.3</td>\n",
       "      <td>Tiantan</td>\n",
       "      <td>2017</td>\n",
       "      <td>2</td>\n",
       "      <td>28</td>\n",
       "      <td>23</td>\n",
       "      <td>1</td>\n",
       "      <td>1</td>\n",
       "      <td>Tuesday</td>\n",
       "      <td>1767 days 01:00:00</td>\n",
       "    </tr>\n",
       "  </tbody>\n",
       "</table>\n",
       "<p>5 rows × 22 columns</p>\n",
       "</div>"
      ],
      "text/plain": [
       "                date_time  PM2.5  PM10  SO2   NO2     CO    O3  TEMP    PRES  \\\n",
       "95680 2017-02-28 15:00:00    9.0   9.0  2.0  22.0  300.0  91.0  15.4  1013.0   \n",
       "95681 2017-02-28 16:00:00   10.0  29.0  3.0  21.0  300.0  94.0  14.9  1012.6   \n",
       "95682 2017-02-28 21:00:00   18.0  32.0  4.0  48.0  500.0  48.0  10.8  1014.2   \n",
       "95683 2017-02-28 22:00:00   15.0  42.0  5.0  52.0  600.0  44.0  10.5  1014.4   \n",
       "95684 2017-02-28 23:00:00   15.0  50.0  5.0  68.0  700.0  21.0   8.6  1014.1   \n",
       "\n",
       "       DEWP  ...  WSPM  station  year month  day  hour  quarter  \\\n",
       "95680 -15.0  ...   3.3  Tiantan  2017     2   28    15        1   \n",
       "95681 -15.4  ...   2.1  Tiantan  2017     2   28    16        1   \n",
       "95682 -13.3  ...   1.1  Tiantan  2017     2   28    21        1   \n",
       "95683 -12.9  ...   1.2  Tiantan  2017     2   28    22        1   \n",
       "95684 -15.9  ...   1.3  Tiantan  2017     2   28    23        1   \n",
       "\n",
       "       day_of_week_num  day_of_week_name    time_until_2022  \n",
       "95680                1           Tuesday 1767 days 09:00:00  \n",
       "95681                1           Tuesday 1767 days 08:00:00  \n",
       "95682                1           Tuesday 1767 days 03:00:00  \n",
       "95683                1           Tuesday 1767 days 02:00:00  \n",
       "95684                1           Tuesday 1767 days 01:00:00  \n",
       "\n",
       "[5 rows x 22 columns]"
      ]
     },
     "execution_count": 30,
     "metadata": {},
     "output_type": "execute_result"
    }
   ],
   "source": [
    "air_quality.tail()"
   ]
  },
  {
   "cell_type": "code",
   "execution_count": 31,
   "id": "d904ded9-9861-40e6-b6d0-07d32a7e338d",
   "metadata": {},
   "outputs": [],
   "source": [
    "air_quality['time_until_2022_days']=air_quality['time_until_2022']/pd.Timedelta(days=1)\n",
    "air_quality['time_until_2022_week']=air_quality['time_until_2022']/pd.Timedelta(weeks=1)"
   ]
  },
  {
   "cell_type": "code",
   "execution_count": 32,
   "id": "e58f2ce5-c0f7-468a-8d9a-b93c078947f2",
   "metadata": {},
   "outputs": [
    {
     "data": {
      "text/html": [
       "<div>\n",
       "<style scoped>\n",
       "    .dataframe tbody tr th:only-of-type {\n",
       "        vertical-align: middle;\n",
       "    }\n",
       "\n",
       "    .dataframe tbody tr th {\n",
       "        vertical-align: top;\n",
       "    }\n",
       "\n",
       "    .dataframe thead th {\n",
       "        text-align: right;\n",
       "    }\n",
       "</style>\n",
       "<table border=\"1\" class=\"dataframe\">\n",
       "  <thead>\n",
       "    <tr style=\"text-align: right;\">\n",
       "      <th></th>\n",
       "      <th>date_time</th>\n",
       "      <th>time_until_2022</th>\n",
       "      <th>time_until_2022_days</th>\n",
       "      <th>time_until_2022_week</th>\n",
       "    </tr>\n",
       "  </thead>\n",
       "  <tbody>\n",
       "    <tr>\n",
       "      <th>0</th>\n",
       "      <td>2013-03-01 00:00:00</td>\n",
       "      <td>3228 days 00:00:00</td>\n",
       "      <td>3228.000000</td>\n",
       "      <td>461.142857</td>\n",
       "    </tr>\n",
       "    <tr>\n",
       "      <th>1</th>\n",
       "      <td>2013-03-01 01:00:00</td>\n",
       "      <td>3227 days 23:00:00</td>\n",
       "      <td>3227.958333</td>\n",
       "      <td>461.136905</td>\n",
       "    </tr>\n",
       "    <tr>\n",
       "      <th>2</th>\n",
       "      <td>2013-03-01 05:00:00</td>\n",
       "      <td>3227 days 19:00:00</td>\n",
       "      <td>3227.791667</td>\n",
       "      <td>461.113095</td>\n",
       "    </tr>\n",
       "    <tr>\n",
       "      <th>3</th>\n",
       "      <td>2013-03-01 06:00:00</td>\n",
       "      <td>3227 days 18:00:00</td>\n",
       "      <td>3227.750000</td>\n",
       "      <td>461.107143</td>\n",
       "    </tr>\n",
       "    <tr>\n",
       "      <th>4</th>\n",
       "      <td>2013-03-01 07:00:00</td>\n",
       "      <td>3227 days 17:00:00</td>\n",
       "      <td>3227.708333</td>\n",
       "      <td>461.101190</td>\n",
       "    </tr>\n",
       "    <tr>\n",
       "      <th>...</th>\n",
       "      <td>...</td>\n",
       "      <td>...</td>\n",
       "      <td>...</td>\n",
       "      <td>...</td>\n",
       "    </tr>\n",
       "    <tr>\n",
       "      <th>95680</th>\n",
       "      <td>2017-02-28 15:00:00</td>\n",
       "      <td>1767 days 09:00:00</td>\n",
       "      <td>1767.375000</td>\n",
       "      <td>252.482143</td>\n",
       "    </tr>\n",
       "    <tr>\n",
       "      <th>95681</th>\n",
       "      <td>2017-02-28 16:00:00</td>\n",
       "      <td>1767 days 08:00:00</td>\n",
       "      <td>1767.333333</td>\n",
       "      <td>252.476190</td>\n",
       "    </tr>\n",
       "    <tr>\n",
       "      <th>95682</th>\n",
       "      <td>2017-02-28 21:00:00</td>\n",
       "      <td>1767 days 03:00:00</td>\n",
       "      <td>1767.125000</td>\n",
       "      <td>252.446429</td>\n",
       "    </tr>\n",
       "    <tr>\n",
       "      <th>95683</th>\n",
       "      <td>2017-02-28 22:00:00</td>\n",
       "      <td>1767 days 02:00:00</td>\n",
       "      <td>1767.083333</td>\n",
       "      <td>252.440476</td>\n",
       "    </tr>\n",
       "    <tr>\n",
       "      <th>95684</th>\n",
       "      <td>2017-02-28 23:00:00</td>\n",
       "      <td>1767 days 01:00:00</td>\n",
       "      <td>1767.041667</td>\n",
       "      <td>252.434524</td>\n",
       "    </tr>\n",
       "  </tbody>\n",
       "</table>\n",
       "<p>95685 rows × 4 columns</p>\n",
       "</div>"
      ],
      "text/plain": [
       "                date_time    time_until_2022  time_until_2022_days  \\\n",
       "0     2013-03-01 00:00:00 3228 days 00:00:00           3228.000000   \n",
       "1     2013-03-01 01:00:00 3227 days 23:00:00           3227.958333   \n",
       "2     2013-03-01 05:00:00 3227 days 19:00:00           3227.791667   \n",
       "3     2013-03-01 06:00:00 3227 days 18:00:00           3227.750000   \n",
       "4     2013-03-01 07:00:00 3227 days 17:00:00           3227.708333   \n",
       "...                   ...                ...                   ...   \n",
       "95680 2017-02-28 15:00:00 1767 days 09:00:00           1767.375000   \n",
       "95681 2017-02-28 16:00:00 1767 days 08:00:00           1767.333333   \n",
       "95682 2017-02-28 21:00:00 1767 days 03:00:00           1767.125000   \n",
       "95683 2017-02-28 22:00:00 1767 days 02:00:00           1767.083333   \n",
       "95684 2017-02-28 23:00:00 1767 days 01:00:00           1767.041667   \n",
       "\n",
       "       time_until_2022_week  \n",
       "0                461.142857  \n",
       "1                461.136905  \n",
       "2                461.113095  \n",
       "3                461.107143  \n",
       "4                461.101190  \n",
       "...                     ...  \n",
       "95680            252.482143  \n",
       "95681            252.476190  \n",
       "95682            252.446429  \n",
       "95683            252.440476  \n",
       "95684            252.434524  \n",
       "\n",
       "[95685 rows x 4 columns]"
      ]
     },
     "execution_count": 32,
     "metadata": {},
     "output_type": "execute_result"
    }
   ],
   "source": [
    "air_quality[['date_time','time_until_2022','time_until_2022_days','time_until_2022_week']]"
   ]
  },
  {
   "cell_type": "code",
   "execution_count": 33,
   "id": "db538e78-f0f9-43ee-bc40-68001f63d51a",
   "metadata": {},
   "outputs": [
    {
     "data": {
      "text/plain": [
       "0         True\n",
       "1         True\n",
       "2         True\n",
       "3         True\n",
       "4         True\n",
       "         ...  \n",
       "95680    False\n",
       "95681    False\n",
       "95682    False\n",
       "95683    False\n",
       "95684    False\n",
       "Name: date_time, Length: 95685, dtype: bool"
      ]
     },
     "execution_count": 33,
     "metadata": {},
     "output_type": "execute_result"
    }
   ],
   "source": [
    "air_quality['date_time']<pd.Timestamp('2016/01/01')"
   ]
  },
  {
   "cell_type": "code",
   "execution_count": 14,
   "id": "f027745a-2873-425f-a85d-2d76aae40d83",
   "metadata": {},
   "outputs": [],
   "source": [
    "air_quality['prior_2016_ind']=(air_quality['date_time']<pd.Timestamp('2016/01/01'))"
   ]
  },
  {
   "cell_type": "code",
   "execution_count": 15,
   "id": "8addb8e2-f9c4-4428-b8bc-409e9feb6121",
   "metadata": {},
   "outputs": [
    {
     "data": {
      "text/html": [
       "<div>\n",
       "<style scoped>\n",
       "    .dataframe tbody tr th:only-of-type {\n",
       "        vertical-align: middle;\n",
       "    }\n",
       "\n",
       "    .dataframe tbody tr th {\n",
       "        vertical-align: top;\n",
       "    }\n",
       "\n",
       "    .dataframe thead th {\n",
       "        text-align: right;\n",
       "    }\n",
       "</style>\n",
       "<table border=\"1\" class=\"dataframe\">\n",
       "  <thead>\n",
       "    <tr style=\"text-align: right;\">\n",
       "      <th></th>\n",
       "      <th>date_time</th>\n",
       "      <th>prior_2016_ind</th>\n",
       "    </tr>\n",
       "  </thead>\n",
       "  <tbody>\n",
       "    <tr>\n",
       "      <th>0</th>\n",
       "      <td>2013-03-01 00:00:00</td>\n",
       "      <td>True</td>\n",
       "    </tr>\n",
       "    <tr>\n",
       "      <th>1</th>\n",
       "      <td>2013-03-01 01:00:00</td>\n",
       "      <td>True</td>\n",
       "    </tr>\n",
       "    <tr>\n",
       "      <th>2</th>\n",
       "      <td>2013-03-01 05:00:00</td>\n",
       "      <td>True</td>\n",
       "    </tr>\n",
       "    <tr>\n",
       "      <th>3</th>\n",
       "      <td>2013-03-01 06:00:00</td>\n",
       "      <td>True</td>\n",
       "    </tr>\n",
       "    <tr>\n",
       "      <th>4</th>\n",
       "      <td>2013-03-01 07:00:00</td>\n",
       "      <td>True</td>\n",
       "    </tr>\n",
       "    <tr>\n",
       "      <th>...</th>\n",
       "      <td>...</td>\n",
       "      <td>...</td>\n",
       "    </tr>\n",
       "    <tr>\n",
       "      <th>95680</th>\n",
       "      <td>2017-02-28 15:00:00</td>\n",
       "      <td>False</td>\n",
       "    </tr>\n",
       "    <tr>\n",
       "      <th>95681</th>\n",
       "      <td>2017-02-28 16:00:00</td>\n",
       "      <td>False</td>\n",
       "    </tr>\n",
       "    <tr>\n",
       "      <th>95682</th>\n",
       "      <td>2017-02-28 21:00:00</td>\n",
       "      <td>False</td>\n",
       "    </tr>\n",
       "    <tr>\n",
       "      <th>95683</th>\n",
       "      <td>2017-02-28 22:00:00</td>\n",
       "      <td>False</td>\n",
       "    </tr>\n",
       "    <tr>\n",
       "      <th>95684</th>\n",
       "      <td>2017-02-28 23:00:00</td>\n",
       "      <td>False</td>\n",
       "    </tr>\n",
       "  </tbody>\n",
       "</table>\n",
       "<p>95685 rows × 2 columns</p>\n",
       "</div>"
      ],
      "text/plain": [
       "                date_time  prior_2016_ind\n",
       "0     2013-03-01 00:00:00            True\n",
       "1     2013-03-01 01:00:00            True\n",
       "2     2013-03-01 05:00:00            True\n",
       "3     2013-03-01 06:00:00            True\n",
       "4     2013-03-01 07:00:00            True\n",
       "...                   ...             ...\n",
       "95680 2017-02-28 15:00:00           False\n",
       "95681 2017-02-28 16:00:00           False\n",
       "95682 2017-02-28 21:00:00           False\n",
       "95683 2017-02-28 22:00:00           False\n",
       "95684 2017-02-28 23:00:00           False\n",
       "\n",
       "[95685 rows x 2 columns]"
      ]
     },
     "execution_count": 15,
     "metadata": {},
     "output_type": "execute_result"
    }
   ],
   "source": [
    "air_quality[['date_time','prior_2016_ind']]"
   ]
  },
  {
   "cell_type": "code",
   "execution_count": 16,
   "id": "cf35cb8a-faca-4d74-8bbb-f2fff9df9723",
   "metadata": {},
   "outputs": [
    {
     "data": {
      "text/plain": [
       "Index(['date_time', 'PM2.5', 'PM10', 'SO2', 'NO2', 'CO', 'O3', 'TEMP', 'PRES',\n",
       "       'DEWP', 'RAIN', 'wd', 'WSPM', 'station', 'year', 'month', 'day', 'hour',\n",
       "       'quarter', 'day_of_week_num', 'day_of_week_name', 'prior_2016_ind'],\n",
       "      dtype='object')"
      ]
     },
     "execution_count": 16,
     "metadata": {},
     "output_type": "execute_result"
    }
   ],
   "source": [
    "air_quality.columns"
   ]
  },
  {
   "cell_type": "code",
   "execution_count": 17,
   "id": "6579586d-5f0d-4344-bac3-2808245ae88b",
   "metadata": {},
   "outputs": [
    {
     "data": {
      "text/plain": [
       "0    9.0\n",
       "1    4.0\n",
       "2    4.0\n",
       "3    5.0\n",
       "4    3.0\n",
       "Name: PM2.5, dtype: float64"
      ]
     },
     "execution_count": 17,
     "metadata": {},
     "output_type": "execute_result"
    }
   ],
   "source": [
    "air_quality['PM2.5'].head()"
   ]
  },
  {
   "cell_type": "code",
   "execution_count": 38,
   "id": "6684db6e-a913-4f64-b952-a5213ed16e00",
   "metadata": {},
   "outputs": [
    {
     "data": {
      "text/plain": [
       "<Axes: >"
      ]
     },
     "execution_count": 38,
     "metadata": {},
     "output_type": "execute_result"
    },
    {
     "data": {
      "image/png": "[encoded data removed]",
      "text/plain": [
       "<Figure size 640x480 with 1 Axes>"
      ]
     },
     "metadata": {},
     "output_type": "display_data"
    }
   ],
   "source": [
    "air_quality['PM2.5'].hist(bins=20)"
   ]
  },
  {
   "cell_type": "code",
   "execution_count": 18,
   "id": "78b7acac-962b-41a9-be83-86633af37ab5",
   "metadata": {},
   "outputs": [
    {
     "data": {
      "text/plain": [
       "0        (1.181, 83.9]\n",
       "1        (1.181, 83.9]\n",
       "2        (1.181, 83.9]\n",
       "3        (1.181, 83.9]\n",
       "4        (1.181, 83.9]\n",
       "             ...      \n",
       "95680    (1.181, 83.9]\n",
       "95681    (1.181, 83.9]\n",
       "95682    (1.181, 83.9]\n",
       "95683    (1.181, 83.9]\n",
       "95684    (1.181, 83.9]\n",
       "Name: PM2.5, Length: 95685, dtype: category\n",
       "Categories (10, interval[float64, right]): [(1.181, 83.9] < (83.9, 165.8] < (165.8, 247.7] < (247.7, 329.6] ... (493.4, 575.3] < (575.3, 657.2] < (657.2, 739.1] < (739.1, 821.0]]"
      ]
     },
     "execution_count": 18,
     "metadata": {},
     "output_type": "execute_result"
    }
   ],
   "source": [
    "pd.cut(air_quality['PM2.5'],bins=10)"
   ]
  },
  {
   "cell_type": "code",
   "execution_count": 19,
   "id": "aad3f897-919d-4067-973f-ebb167f92b6a",
   "metadata": {},
   "outputs": [
    {
     "data": {
      "text/plain": [
       "PM2.5\n",
       "(1.181, 83.9]     59923\n",
       "(83.9, 165.8]     22741\n",
       "(165.8, 247.7]     8132\n",
       "(247.7, 329.6]     3225\n",
       "(329.6, 411.5]     1011\n",
       "(411.5, 493.4]      384\n",
       "(493.4, 575.3]      171\n",
       "(575.3, 657.2]       70\n",
       "(657.2, 739.1]       22\n",
       "(739.1, 821.0]        6\n",
       "Name: count, dtype: int64"
      ]
     },
     "execution_count": 19,
     "metadata": {},
     "output_type": "execute_result"
    }
   ],
   "source": [
    "pd.cut(air_quality['PM2.5'],bins=10).value_counts()"
   ]
  },
  {
   "cell_type": "code",
   "execution_count": 44,
   "id": "90f800f2-be73-4e56-bd92-ceefa61be4cc",
   "metadata": {},
   "outputs": [
    {
     "data": {
      "text/plain": [
       "0         (0.0, 12.0]\n",
       "1         (0.0, 12.0]\n",
       "2         (0.0, 12.0]\n",
       "3         (0.0, 12.0]\n",
       "4         (0.0, 12.0]\n",
       "             ...     \n",
       "95680     (0.0, 12.0]\n",
       "95681     (0.0, 12.0]\n",
       "95682    (12.0, 35.4]\n",
       "95683    (12.0, 35.4]\n",
       "95684    (12.0, 35.4]\n",
       "Name: PM2.5, Length: 95685, dtype: category\n",
       "Categories (6, interval[float64, right]): [(0.0, 12.0] < (12.0, 35.4] < (35.4, 55.4] < (55.4, 150.4] < (150.4, 250.4] < (250.4, 999.0]]"
      ]
     },
     "execution_count": 44,
     "metadata": {},
     "output_type": "execute_result"
    }
   ],
   "source": [
    "pd.cut(air_quality['PM2.5'],bins=[0,12,35.4,55.4,150.4,250.4,999])"
   ]
  },
  {
   "cell_type": "code",
   "execution_count": 45,
   "id": "d9281899-6efa-4fbd-b407-0fd991f48c93",
   "metadata": {},
   "outputs": [
    {
     "data": {
      "text/plain": [
       "PM2.5\n",
       "(55.4, 150.4]     34257\n",
       "(12.0, 35.4]      19853\n",
       "(0.0, 12.0]       13576\n",
       "(35.4, 55.4]      12457\n",
       "(150.4, 250.4]    10821\n",
       "(250.4, 999.0]     4721\n",
       "Name: count, dtype: int64"
      ]
     },
     "execution_count": 45,
     "metadata": {},
     "output_type": "execute_result"
    }
   ],
   "source": [
    "pd.cut(air_quality['PM2.5'],bins=[0,12,35.4,55.4,150.4,250.4,999]).value_counts()"
   ]
  },
  {
   "cell_type": "code",
   "execution_count": 46,
   "id": "7bf85ea2-b415-45f6-8461-191d96ed0f94",
   "metadata": {},
   "outputs": [
    {
     "data": {
      "text/plain": [
       "0            Good\n",
       "1            Good\n",
       "2            Good\n",
       "3            Good\n",
       "4            Good\n",
       "           ...   \n",
       "95680        Good\n",
       "95681        Good\n",
       "95682    Moderate\n",
       "95683    Moderate\n",
       "95684    Moderate\n",
       "Name: PM2.5, Length: 95685, dtype: category\n",
       "Categories (6, object): ['Good' < 'Moderate' < 'Unhelathy' < 'Unhealthy for sensitive group' < 'very unhealthy' < 'Hazardous']"
      ]
     },
     "execution_count": 46,
     "metadata": {},
     "output_type": "execute_result"
    }
   ],
   "source": [
    "pd.cut(air_quality['PM2.5'],\n",
    "       bins=[0,12,35.4,55.4,150.4,250.4,999],\n",
    "       labels=['Good','Moderate','Unhelathy','Unhealthy for sensitive group','very unhealthy','Hazardous'])"
   ]
  },
  {
   "cell_type": "code",
   "execution_count": 47,
   "id": "a1fd51ea-328d-482e-af5f-a1c3abd620b6",
   "metadata": {},
   "outputs": [
    {
     "data": {
      "text/plain": [
       "PM2.5\n",
       "Unhealthy for sensitive group    34257\n",
       "Moderate                         19853\n",
       "Good                             13576\n",
       "Unhelathy                        12457\n",
       "very unhealthy                   10821\n",
       "Hazardous                         4721\n",
       "Name: count, dtype: int64"
      ]
     },
     "execution_count": 47,
     "metadata": {},
     "output_type": "execute_result"
    }
   ],
   "source": [
    "pd.cut(air_quality['PM2.5'],\n",
    "       bins=[0,12,35.4,55.4,150.4,250.4,999],\n",
    "       labels=['Good','Moderate','Unhelathy','Unhealthy for sensitive group','very unhealthy','Hazardous']).value_counts()"
   ]
  },
  {
   "cell_type": "code",
   "execution_count": 49,
   "id": "4ce957ea-819c-447e-bee9-77aa5e65e41f",
   "metadata": {},
   "outputs": [],
   "source": [
    "air_quality['PM2.5_category']=pd.cut(air_quality['PM2.5'],\n",
    "       bins=[0,12,35.4,55.4,150.4,250.4,999],\n",
    "       labels=['Good','Moderate','Unhelathy','Unhealthy for sensitive group','very unhealthy','Hazardous'])"
   ]
  },
  {
   "cell_type": "code",
   "execution_count": 50,
   "id": "90c691c6-de85-4f23-a155-188012612cad",
   "metadata": {},
   "outputs": [
    {
     "data": {
      "text/html": [
       "<div>\n",
       "<style scoped>\n",
       "    .dataframe tbody tr th:only-of-type {\n",
       "        vertical-align: middle;\n",
       "    }\n",
       "\n",
       "    .dataframe tbody tr th {\n",
       "        vertical-align: top;\n",
       "    }\n",
       "\n",
       "    .dataframe thead th {\n",
       "        text-align: right;\n",
       "    }\n",
       "</style>\n",
       "<table border=\"1\" class=\"dataframe\">\n",
       "  <thead>\n",
       "    <tr style=\"text-align: right;\">\n",
       "      <th></th>\n",
       "      <th>PM2.5</th>\n",
       "      <th>PM2.5_category</th>\n",
       "    </tr>\n",
       "  </thead>\n",
       "  <tbody>\n",
       "    <tr>\n",
       "      <th>0</th>\n",
       "      <td>9.0</td>\n",
       "      <td>Good</td>\n",
       "    </tr>\n",
       "    <tr>\n",
       "      <th>1</th>\n",
       "      <td>4.0</td>\n",
       "      <td>Good</td>\n",
       "    </tr>\n",
       "    <tr>\n",
       "      <th>2</th>\n",
       "      <td>4.0</td>\n",
       "      <td>Good</td>\n",
       "    </tr>\n",
       "    <tr>\n",
       "      <th>3</th>\n",
       "      <td>5.0</td>\n",
       "      <td>Good</td>\n",
       "    </tr>\n",
       "    <tr>\n",
       "      <th>4</th>\n",
       "      <td>3.0</td>\n",
       "      <td>Good</td>\n",
       "    </tr>\n",
       "    <tr>\n",
       "      <th>...</th>\n",
       "      <td>...</td>\n",
       "      <td>...</td>\n",
       "    </tr>\n",
       "    <tr>\n",
       "      <th>95680</th>\n",
       "      <td>9.0</td>\n",
       "      <td>Good</td>\n",
       "    </tr>\n",
       "    <tr>\n",
       "      <th>95681</th>\n",
       "      <td>10.0</td>\n",
       "      <td>Good</td>\n",
       "    </tr>\n",
       "    <tr>\n",
       "      <th>95682</th>\n",
       "      <td>18.0</td>\n",
       "      <td>Moderate</td>\n",
       "    </tr>\n",
       "    <tr>\n",
       "      <th>95683</th>\n",
       "      <td>15.0</td>\n",
       "      <td>Moderate</td>\n",
       "    </tr>\n",
       "    <tr>\n",
       "      <th>95684</th>\n",
       "      <td>15.0</td>\n",
       "      <td>Moderate</td>\n",
       "    </tr>\n",
       "  </tbody>\n",
       "</table>\n",
       "<p>95685 rows × 2 columns</p>\n",
       "</div>"
      ],
      "text/plain": [
       "       PM2.5 PM2.5_category\n",
       "0        9.0           Good\n",
       "1        4.0           Good\n",
       "2        4.0           Good\n",
       "3        5.0           Good\n",
       "4        3.0           Good\n",
       "...      ...            ...\n",
       "95680    9.0           Good\n",
       "95681   10.0           Good\n",
       "95682   18.0       Moderate\n",
       "95683   15.0       Moderate\n",
       "95684   15.0       Moderate\n",
       "\n",
       "[95685 rows x 2 columns]"
      ]
     },
     "execution_count": 50,
     "metadata": {},
     "output_type": "execute_result"
    }
   ],
   "source": [
    "air_quality[['PM2.5','PM2.5_category']]"
   ]
  },
  {
   "cell_type": "code",
   "execution_count": 51,
   "id": "b0f63df5-f077-4a61-b6d9-38bf054c7fc2",
   "metadata": {},
   "outputs": [
    {
     "data": {
      "text/plain": [
       "PM2.5_category\n",
       "Unhealthy for sensitive group    0.358018\n",
       "Moderate                         0.207483\n",
       "Good                             0.141882\n",
       "Unhelathy                        0.130188\n",
       "very unhealthy                   0.113090\n",
       "Hazardous                        0.049339\n",
       "Name: proportion, dtype: float64"
      ]
     },
     "execution_count": 51,
     "metadata": {},
     "output_type": "execute_result"
    }
   ],
   "source": [
    "air_quality['PM2.5_category'].value_counts(normalize=True)"
   ]
  },
  {
   "cell_type": "code",
   "execution_count": 52,
   "id": "b43a561f-b44f-45ce-8842-7b842a7688c9",
   "metadata": {},
   "outputs": [
    {
     "data": {
      "text/plain": [
       "0        (1.999, 23.0]\n",
       "1        (1.999, 23.0]\n",
       "2        (1.999, 23.0]\n",
       "3        (1.999, 23.0]\n",
       "4        (1.999, 23.0]\n",
       "             ...      \n",
       "95680    (1.999, 23.0]\n",
       "95681    (1.999, 23.0]\n",
       "95682    (1.999, 23.0]\n",
       "95683    (1.999, 23.0]\n",
       "95684    (1.999, 23.0]\n",
       "Name: PM2.5, Length: 95685, dtype: category\n",
       "Categories (4, interval[float64, right]): [(1.999, 23.0] < (23.0, 59.0] < (59.0, 116.0] < (116.0, 821.0]]"
      ]
     },
     "execution_count": 52,
     "metadata": {},
     "output_type": "execute_result"
    }
   ],
   "source": [
    "pd.qcut(air_quality['PM2.5'], q=4)"
   ]
  },
  {
   "cell_type": "code",
   "execution_count": 53,
   "id": "c07f83a5-08d1-4f8a-b389-bf8ac8d6a2cc",
   "metadata": {},
   "outputs": [
    {
     "data": {
      "text/plain": [
       "PM2.5\n",
       "(1.999, 23.0]     24708\n",
       "(59.0, 116.0]     23908\n",
       "(116.0, 821.0]    23645\n",
       "(23.0, 59.0]      23424\n",
       "Name: count, dtype: int64"
      ]
     },
     "execution_count": 53,
     "metadata": {},
     "output_type": "execute_result"
    }
   ],
   "source": [
    "pd.qcut(air_quality['PM2.5'], q=4).value_counts()"
   ]
  },
  {
   "cell_type": "code",
   "execution_count": 54,
   "id": "fb89c2c0-a88d-4ecf-8208-88d2422e7e83",
   "metadata": {},
   "outputs": [
    {
     "data": {
      "text/plain": [
       "PM2.5\n",
       "(1.999, 23.0]     0.258222\n",
       "(59.0, 116.0]     0.249862\n",
       "(116.0, 821.0]    0.247113\n",
       "(23.0, 59.0]      0.244803\n",
       "Name: proportion, dtype: float64"
      ]
     },
     "execution_count": 54,
     "metadata": {},
     "output_type": "execute_result"
    }
   ],
   "source": [
    "pd.qcut(air_quality['PM2.5'], q=4).value_counts(normalize=True)"
   ]
  },
  {
   "cell_type": "code",
   "execution_count": 55,
   "id": "ccf7bf0b-1441-4a92-b67a-87095169cb35",
   "metadata": {},
   "outputs": [
    {
     "data": {
      "text/plain": [
       "0        Very cold\n",
       "1        Very cold\n",
       "2        Very cold\n",
       "3        Very cold\n",
       "4        Very cold\n",
       "           ...    \n",
       "95680         Warm\n",
       "95681         Warm\n",
       "95682         Warm\n",
       "95683         Warm\n",
       "95684         Cold\n",
       "Name: TEMP, Length: 95685, dtype: category\n",
       "Categories (5, object): ['Very cold' < 'Cold' < 'Warm' < 'Hot' < 'Very Hot']"
      ]
     },
     "execution_count": 55,
     "metadata": {},
     "output_type": "execute_result"
    }
   ],
   "source": [
    "pd.qcut(air_quality['TEMP'],\n",
    "        q=5,\n",
    "        labels=['Very cold', 'Cold', 'Warm', 'Hot', 'Very Hot'])"
   ]
  },
  {
   "cell_type": "code",
   "execution_count": 56,
   "id": "dc85d1c2-ea55-41e0-a4c0-0e6849288809",
   "metadata": {},
   "outputs": [
    {
     "data": {
      "text/plain": [
       "TEMP\n",
       "Hot          19189\n",
       "Very cold    19156\n",
       "Cold         19154\n",
       "Warm         19143\n",
       "Very Hot     19043\n",
       "Name: count, dtype: int64"
      ]
     },
     "execution_count": 56,
     "metadata": {},
     "output_type": "execute_result"
    }
   ],
   "source": [
    "pd.qcut(air_quality['TEMP'],\n",
    "        q=5,\n",
    "        labels=['Very cold', 'Cold', 'Warm', 'Hot', 'Very Hot']).value_counts()"
   ]
  },
  {
   "cell_type": "code",
   "execution_count": 57,
   "id": "88f1adb4-d8a2-4981-aced-92d668d507f7",
   "metadata": {},
   "outputs": [],
   "source": [
    "air_quality['TEMP_category']=pd.qcut(air_quality['TEMP'],\n",
    "        q=5,\n",
    "        labels=['Very cold', 'Cold', 'Warm', 'Hot', 'Very Hot'])"
   ]
  },
  {
   "cell_type": "code",
   "execution_count": 58,
   "id": "2edea403-4e8a-49d9-a624-e5bd683352b3",
   "metadata": {},
   "outputs": [
    {
     "data": {
      "text/html": [
       "<div>\n",
       "<style scoped>\n",
       "    .dataframe tbody tr th:only-of-type {\n",
       "        vertical-align: middle;\n",
       "    }\n",
       "\n",
       "    .dataframe tbody tr th {\n",
       "        vertical-align: top;\n",
       "    }\n",
       "\n",
       "    .dataframe thead th {\n",
       "        text-align: right;\n",
       "    }\n",
       "</style>\n",
       "<table border=\"1\" class=\"dataframe\">\n",
       "  <thead>\n",
       "    <tr style=\"text-align: right;\">\n",
       "      <th></th>\n",
       "      <th>TEMP</th>\n",
       "      <th>TEMP_category</th>\n",
       "    </tr>\n",
       "  </thead>\n",
       "  <tbody>\n",
       "    <tr>\n",
       "      <th>0</th>\n",
       "      <td>-0.5</td>\n",
       "      <td>Very cold</td>\n",
       "    </tr>\n",
       "    <tr>\n",
       "      <th>1</th>\n",
       "      <td>-0.7</td>\n",
       "      <td>Very cold</td>\n",
       "    </tr>\n",
       "    <tr>\n",
       "      <th>2</th>\n",
       "      <td>-2.4</td>\n",
       "      <td>Very cold</td>\n",
       "    </tr>\n",
       "    <tr>\n",
       "      <th>3</th>\n",
       "      <td>-2.5</td>\n",
       "      <td>Very cold</td>\n",
       "    </tr>\n",
       "    <tr>\n",
       "      <th>4</th>\n",
       "      <td>-1.4</td>\n",
       "      <td>Very cold</td>\n",
       "    </tr>\n",
       "    <tr>\n",
       "      <th>...</th>\n",
       "      <td>...</td>\n",
       "      <td>...</td>\n",
       "    </tr>\n",
       "    <tr>\n",
       "      <th>95680</th>\n",
       "      <td>15.4</td>\n",
       "      <td>Warm</td>\n",
       "    </tr>\n",
       "    <tr>\n",
       "      <th>95681</th>\n",
       "      <td>14.9</td>\n",
       "      <td>Warm</td>\n",
       "    </tr>\n",
       "    <tr>\n",
       "      <th>95682</th>\n",
       "      <td>10.8</td>\n",
       "      <td>Warm</td>\n",
       "    </tr>\n",
       "    <tr>\n",
       "      <th>95683</th>\n",
       "      <td>10.5</td>\n",
       "      <td>Warm</td>\n",
       "    </tr>\n",
       "    <tr>\n",
       "      <th>95684</th>\n",
       "      <td>8.6</td>\n",
       "      <td>Cold</td>\n",
       "    </tr>\n",
       "  </tbody>\n",
       "</table>\n",
       "<p>95685 rows × 2 columns</p>\n",
       "</div>"
      ],
      "text/plain": [
       "       TEMP TEMP_category\n",
       "0      -0.5     Very cold\n",
       "1      -0.7     Very cold\n",
       "2      -2.4     Very cold\n",
       "3      -2.5     Very cold\n",
       "4      -1.4     Very cold\n",
       "...     ...           ...\n",
       "95680  15.4          Warm\n",
       "95681  14.9          Warm\n",
       "95682  10.8          Warm\n",
       "95683  10.5          Warm\n",
       "95684   8.6          Cold\n",
       "\n",
       "[95685 rows x 2 columns]"
      ]
     },
     "execution_count": 58,
     "metadata": {},
     "output_type": "execute_result"
    }
   ],
   "source": [
    "air_quality[['TEMP','TEMP_category']]"
   ]
  },
  {
   "cell_type": "code",
   "execution_count": 20,
   "id": "5a3641d3-124b-46e5-a477-ac9feb87dd5b",
   "metadata": {},
   "outputs": [],
   "source": [
    "air_quality.to_csv(\"Air_quality_new.csv\")"
   ]
  },
  {
   "cell_type": "code",
   "execution_count": 21,
   "id": "5d220f44-b859-4c4f-88d8-1542d03100d4",
   "metadata": {},
   "outputs": [],
   "source": [
    "xy=pd.read_csv(\"Air_quality_new.csv\")"
   ]
  },
  {
   "cell_type": "code",
   "execution_count": 71,
   "id": "b773c9c9-4be5-4043-acfd-96ec2f796c71",
   "metadata": {},
   "outputs": [
    {
     "data": {
      "text/html": [
       "<div>\n",
       "<style scoped>\n",
       "    .dataframe tbody tr th:only-of-type {\n",
       "        vertical-align: middle;\n",
       "    }\n",
       "\n",
       "    .dataframe tbody tr th {\n",
       "        vertical-align: top;\n",
       "    }\n",
       "\n",
       "    .dataframe thead th {\n",
       "        text-align: right;\n",
       "    }\n",
       "</style>\n",
       "<table border=\"1\" class=\"dataframe\">\n",
       "  <thead>\n",
       "    <tr style=\"text-align: right;\">\n",
       "      <th></th>\n",
       "      <th>Unnamed: 0</th>\n",
       "      <th>date_time</th>\n",
       "      <th>PM2.5</th>\n",
       "      <th>PM10</th>\n",
       "      <th>SO2</th>\n",
       "      <th>NO2</th>\n",
       "      <th>CO</th>\n",
       "      <th>O3</th>\n",
       "      <th>TEMP</th>\n",
       "      <th>PRES</th>\n",
       "      <th>DEWP</th>\n",
       "      <th>RAIN</th>\n",
       "      <th>wd</th>\n",
       "      <th>WSPM</th>\n",
       "      <th>station</th>\n",
       "      <th>PM2.5_category</th>\n",
       "      <th>TEMP_category</th>\n",
       "    </tr>\n",
       "  </thead>\n",
       "  <tbody>\n",
       "    <tr>\n",
       "      <th>0</th>\n",
       "      <td>0</td>\n",
       "      <td>2013-03-01 00:00:00</td>\n",
       "      <td>9.0</td>\n",
       "      <td>9.0</td>\n",
       "      <td>3.0</td>\n",
       "      <td>17.0</td>\n",
       "      <td>300.0</td>\n",
       "      <td>89.0</td>\n",
       "      <td>-0.5</td>\n",
       "      <td>1024.5</td>\n",
       "      <td>-21.4</td>\n",
       "      <td>0.0</td>\n",
       "      <td>NNW</td>\n",
       "      <td>5.7</td>\n",
       "      <td>Dongsi</td>\n",
       "      <td>Good</td>\n",
       "      <td>Very cold</td>\n",
       "    </tr>\n",
       "    <tr>\n",
       "      <th>1</th>\n",
       "      <td>1</td>\n",
       "      <td>2013-03-01 01:00:00</td>\n",
       "      <td>4.0</td>\n",
       "      <td>4.0</td>\n",
       "      <td>3.0</td>\n",
       "      <td>16.0</td>\n",
       "      <td>300.0</td>\n",
       "      <td>88.0</td>\n",
       "      <td>-0.7</td>\n",
       "      <td>1025.1</td>\n",
       "      <td>-22.1</td>\n",
       "      <td>0.0</td>\n",
       "      <td>NW</td>\n",
       "      <td>3.9</td>\n",
       "      <td>Dongsi</td>\n",
       "      <td>Good</td>\n",
       "      <td>Very cold</td>\n",
       "    </tr>\n",
       "    <tr>\n",
       "      <th>2</th>\n",
       "      <td>2</td>\n",
       "      <td>2013-03-01 05:00:00</td>\n",
       "      <td>4.0</td>\n",
       "      <td>4.0</td>\n",
       "      <td>9.0</td>\n",
       "      <td>25.0</td>\n",
       "      <td>300.0</td>\n",
       "      <td>78.0</td>\n",
       "      <td>-2.4</td>\n",
       "      <td>1027.5</td>\n",
       "      <td>-21.3</td>\n",
       "      <td>0.0</td>\n",
       "      <td>NW</td>\n",
       "      <td>2.4</td>\n",
       "      <td>Dongsi</td>\n",
       "      <td>Good</td>\n",
       "      <td>Very cold</td>\n",
       "    </tr>\n",
       "    <tr>\n",
       "      <th>3</th>\n",
       "      <td>3</td>\n",
       "      <td>2013-03-01 06:00:00</td>\n",
       "      <td>5.0</td>\n",
       "      <td>5.0</td>\n",
       "      <td>10.0</td>\n",
       "      <td>29.0</td>\n",
       "      <td>400.0</td>\n",
       "      <td>67.0</td>\n",
       "      <td>-2.5</td>\n",
       "      <td>1028.2</td>\n",
       "      <td>-20.4</td>\n",
       "      <td>0.0</td>\n",
       "      <td>NW</td>\n",
       "      <td>2.2</td>\n",
       "      <td>Dongsi</td>\n",
       "      <td>Good</td>\n",
       "      <td>Very cold</td>\n",
       "    </tr>\n",
       "    <tr>\n",
       "      <th>4</th>\n",
       "      <td>4</td>\n",
       "      <td>2013-03-01 07:00:00</td>\n",
       "      <td>3.0</td>\n",
       "      <td>6.0</td>\n",
       "      <td>12.0</td>\n",
       "      <td>40.0</td>\n",
       "      <td>400.0</td>\n",
       "      <td>52.0</td>\n",
       "      <td>-1.4</td>\n",
       "      <td>1029.5</td>\n",
       "      <td>-20.4</td>\n",
       "      <td>0.0</td>\n",
       "      <td>NNW</td>\n",
       "      <td>3.0</td>\n",
       "      <td>Dongsi</td>\n",
       "      <td>Good</td>\n",
       "      <td>Very cold</td>\n",
       "    </tr>\n",
       "    <tr>\n",
       "      <th>...</th>\n",
       "      <td>...</td>\n",
       "      <td>...</td>\n",
       "      <td>...</td>\n",
       "      <td>...</td>\n",
       "      <td>...</td>\n",
       "      <td>...</td>\n",
       "      <td>...</td>\n",
       "      <td>...</td>\n",
       "      <td>...</td>\n",
       "      <td>...</td>\n",
       "      <td>...</td>\n",
       "      <td>...</td>\n",
       "      <td>...</td>\n",
       "      <td>...</td>\n",
       "      <td>...</td>\n",
       "      <td>...</td>\n",
       "      <td>...</td>\n",
       "    </tr>\n",
       "    <tr>\n",
       "      <th>95680</th>\n",
       "      <td>95680</td>\n",
       "      <td>2017-02-28 15:00:00</td>\n",
       "      <td>9.0</td>\n",
       "      <td>9.0</td>\n",
       "      <td>2.0</td>\n",
       "      <td>22.0</td>\n",
       "      <td>300.0</td>\n",
       "      <td>91.0</td>\n",
       "      <td>15.4</td>\n",
       "      <td>1013.0</td>\n",
       "      <td>-15.0</td>\n",
       "      <td>0.0</td>\n",
       "      <td>NNW</td>\n",
       "      <td>3.3</td>\n",
       "      <td>Tiantan</td>\n",
       "      <td>Good</td>\n",
       "      <td>Warm</td>\n",
       "    </tr>\n",
       "    <tr>\n",
       "      <th>95681</th>\n",
       "      <td>95681</td>\n",
       "      <td>2017-02-28 16:00:00</td>\n",
       "      <td>10.0</td>\n",
       "      <td>29.0</td>\n",
       "      <td>3.0</td>\n",
       "      <td>21.0</td>\n",
       "      <td>300.0</td>\n",
       "      <td>94.0</td>\n",
       "      <td>14.9</td>\n",
       "      <td>1012.6</td>\n",
       "      <td>-15.4</td>\n",
       "      <td>0.0</td>\n",
       "      <td>NW</td>\n",
       "      <td>2.1</td>\n",
       "      <td>Tiantan</td>\n",
       "      <td>Good</td>\n",
       "      <td>Warm</td>\n",
       "    </tr>\n",
       "    <tr>\n",
       "      <th>95682</th>\n",
       "      <td>95682</td>\n",
       "      <td>2017-02-28 21:00:00</td>\n",
       "      <td>18.0</td>\n",
       "      <td>32.0</td>\n",
       "      <td>4.0</td>\n",
       "      <td>48.0</td>\n",
       "      <td>500.0</td>\n",
       "      <td>48.0</td>\n",
       "      <td>10.8</td>\n",
       "      <td>1014.2</td>\n",
       "      <td>-13.3</td>\n",
       "      <td>0.0</td>\n",
       "      <td>NW</td>\n",
       "      <td>1.1</td>\n",
       "      <td>Tiantan</td>\n",
       "      <td>Moderate</td>\n",
       "      <td>Warm</td>\n",
       "    </tr>\n",
       "    <tr>\n",
       "      <th>95683</th>\n",
       "      <td>95683</td>\n",
       "      <td>2017-02-28 22:00:00</td>\n",
       "      <td>15.0</td>\n",
       "      <td>42.0</td>\n",
       "      <td>5.0</td>\n",
       "      <td>52.0</td>\n",
       "      <td>600.0</td>\n",
       "      <td>44.0</td>\n",
       "      <td>10.5</td>\n",
       "      <td>1014.4</td>\n",
       "      <td>-12.9</td>\n",
       "      <td>0.0</td>\n",
       "      <td>NNW</td>\n",
       "      <td>1.2</td>\n",
       "      <td>Tiantan</td>\n",
       "      <td>Moderate</td>\n",
       "      <td>Warm</td>\n",
       "    </tr>\n",
       "    <tr>\n",
       "      <th>95684</th>\n",
       "      <td>95684</td>\n",
       "      <td>2017-02-28 23:00:00</td>\n",
       "      <td>15.0</td>\n",
       "      <td>50.0</td>\n",
       "      <td>5.0</td>\n",
       "      <td>68.0</td>\n",
       "      <td>700.0</td>\n",
       "      <td>21.0</td>\n",
       "      <td>8.6</td>\n",
       "      <td>1014.1</td>\n",
       "      <td>-15.9</td>\n",
       "      <td>0.0</td>\n",
       "      <td>NNE</td>\n",
       "      <td>1.3</td>\n",
       "      <td>Tiantan</td>\n",
       "      <td>Moderate</td>\n",
       "      <td>Cold</td>\n",
       "    </tr>\n",
       "  </tbody>\n",
       "</table>\n",
       "<p>95685 rows × 17 columns</p>\n",
       "</div>"
      ],
      "text/plain": [
       "       Unnamed: 0            date_time  PM2.5  PM10   SO2   NO2     CO    O3  \\\n",
       "0               0  2013-03-01 00:00:00    9.0   9.0   3.0  17.0  300.0  89.0   \n",
       "1               1  2013-03-01 01:00:00    4.0   4.0   3.0  16.0  300.0  88.0   \n",
       "2               2  2013-03-01 05:00:00    4.0   4.0   9.0  25.0  300.0  78.0   \n",
       "3               3  2013-03-01 06:00:00    5.0   5.0  10.0  29.0  400.0  67.0   \n",
       "4               4  2013-03-01 07:00:00    3.0   6.0  12.0  40.0  400.0  52.0   \n",
       "...           ...                  ...    ...   ...   ...   ...    ...   ...   \n",
       "95680       95680  2017-02-28 15:00:00    9.0   9.0   2.0  22.0  300.0  91.0   \n",
       "95681       95681  2017-02-28 16:00:00   10.0  29.0   3.0  21.0  300.0  94.0   \n",
       "95682       95682  2017-02-28 21:00:00   18.0  32.0   4.0  48.0  500.0  48.0   \n",
       "95683       95683  2017-02-28 22:00:00   15.0  42.0   5.0  52.0  600.0  44.0   \n",
       "95684       95684  2017-02-28 23:00:00   15.0  50.0   5.0  68.0  700.0  21.0   \n",
       "\n",
       "       TEMP    PRES  DEWP  RAIN   wd  WSPM  station PM2.5_category  \\\n",
       "0      -0.5  1024.5 -21.4   0.0  NNW   5.7   Dongsi           Good   \n",
       "1      -0.7  1025.1 -22.1   0.0   NW   3.9   Dongsi           Good   \n",
       "2      -2.4  1027.5 -21.3   0.0   NW   2.4   Dongsi           Good   \n",
       "3      -2.5  1028.2 -20.4   0.0   NW   2.2   Dongsi           Good   \n",
       "4      -1.4  1029.5 -20.4   0.0  NNW   3.0   Dongsi           Good   \n",
       "...     ...     ...   ...   ...  ...   ...      ...            ...   \n",
       "95680  15.4  1013.0 -15.0   0.0  NNW   3.3  Tiantan           Good   \n",
       "95681  14.9  1012.6 -15.4   0.0   NW   2.1  Tiantan           Good   \n",
       "95682  10.8  1014.2 -13.3   0.0   NW   1.1  Tiantan       Moderate   \n",
       "95683  10.5  1014.4 -12.9   0.0  NNW   1.2  Tiantan       Moderate   \n",
       "95684   8.6  1014.1 -15.9   0.0  NNE   1.3  Tiantan       Moderate   \n",
       "\n",
       "      TEMP_category  \n",
       "0         Very cold  \n",
       "1         Very cold  \n",
       "2         Very cold  \n",
       "3         Very cold  \n",
       "4         Very cold  \n",
       "...             ...  \n",
       "95680          Warm  \n",
       "95681          Warm  \n",
       "95682          Warm  \n",
       "95683          Warm  \n",
       "95684          Cold  \n",
       "\n",
       "[95685 rows x 17 columns]"
      ]
     },
     "execution_count": 71,
     "metadata": {},
     "output_type": "execute_result"
    }
   ],
   "source": [
    "xy"
   ]
  },
  {
   "cell_type": "code",
   "execution_count": null,
   "id": "bc4fa7b7-6e2b-4f80-bde1-bc7148e14609",
   "metadata": {},
   "outputs": [],
   "source": []
  }
 ],
 "metadata": {
  "kernelspec": {
   "display_name": "Python 3 (ipykernel)",
   "language": "python",
   "name": "python3"
  },
  "language_info": {
   "codemirror_mode": {
    "name": "ipython",
    "version": 3
   },
   "file_extension": ".py",
   "mimetype": "text/x-python",
   "name": "python",
   "nbconvert_exporter": "python",
   "pygments_lexer": "ipython3",
   "version": "3.11.7"
  }
 },
 "nbformat": 4,
 "nbformat_minor": 5
}
